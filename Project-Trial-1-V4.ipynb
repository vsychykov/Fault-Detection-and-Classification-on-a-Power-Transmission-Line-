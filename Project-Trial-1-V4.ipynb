{
 "cells": [
  {
   "cell_type": "markdown",
   "metadata": {
    "collapsed": true
   },
   "source": [
    "# Import your needed libraries in this cell"
   ]
  },
  {
   "cell_type": "code",
   "execution_count": 1,
   "metadata": {},
   "outputs": [],
   "source": [
    "import os\n",
    "import numpy as np\n",
    "import pandas as pd\n",
    "import matplotlib.pyplot as plt\n",
    "%matplotlib inline\n",
    "from sklearn.preprocessing import PolynomialFeatures\n",
    "import scipy.optimize as opt\n",
    "from matplotlib.pyplot import contour\n",
    "\n",
    "from sklearn.datasets import load_breast_cancer\n",
    "from sklearn import datasets\n",
    "import matplotlib.pyplot as plt\n",
    "import numpy as np\n",
    "#(Import library, object creation, fitting model and prediction)\n",
    "\n",
    "#Import libraries\n",
    "%matplotlib inline\n",
    "import matplotlib.pyplot as plt\n",
    "import numpy as np\n",
    "import pandas as pd\n",
    "from sklearn import preprocessing\n",
    "from sklearn.preprocessing import PolynomialFeatures\n",
    "from sklearn import metrics\n",
    "from sklearn import datasets\n",
    "from sklearn.ensemble import ExtraTreesClassifier\n",
    "from sklearn.feature_selection import RFE\n",
    "from sklearn.linear_model import LogisticRegression\n",
    "from sklearn.model_selection import train_test_split\n",
    "from sklearn.tree import DecisionTreeClassifier\n",
    "from sklearn.svm import SVC\n",
    "from sklearn import svm, datasets,metrics\n",
    "from sklearn.model_selection import cross_val_score\n",
    "from sklearn.model_selection import cross_val_predict\n",
    "#from sklearn.grid_search import GridSearchCV\n",
    "from sklearn.model_selection import RandomizedSearchCV\n",
    "from sklearn.model_selection import ShuffleSplit\n",
    "from sklearn.model_selection import learning_curve\n",
    "from scipy.stats import randint as sp_randint\n",
    "\n",
    "\n",
    "from sklearn.svm import SVC\n",
    "import numpy as np\n",
    "import matplotlib.pyplot as plt\n",
    "from sklearn import svm, datasets\n",
    "from sklearn.decomposition import PCA"
   ]
  },
  {
   "cell_type": "markdown",
   "metadata": {},
   "source": [
    "# Import Dataset"
   ]
  },
  {
   "cell_type": "code",
   "execution_count": 2,
   "metadata": {},
   "outputs": [
    {
     "data": {
      "text/html": [
       "<div>\n",
       "<style scoped>\n",
       "    .dataframe tbody tr th:only-of-type {\n",
       "        vertical-align: middle;\n",
       "    }\n",
       "\n",
       "    .dataframe tbody tr th {\n",
       "        vertical-align: top;\n",
       "    }\n",
       "\n",
       "    .dataframe thead th {\n",
       "        text-align: right;\n",
       "    }\n",
       "</style>\n",
       "<table border=\"1\" class=\"dataframe\">\n",
       "  <thead>\n",
       "    <tr style=\"text-align: right;\">\n",
       "      <th></th>\n",
       "      <th>x1</th>\n",
       "      <th>x2</th>\n",
       "      <th>x3</th>\n",
       "      <th>Class</th>\n",
       "      <th>L</th>\n",
       "    </tr>\n",
       "  </thead>\n",
       "  <tbody>\n",
       "    <tr>\n",
       "      <td>0</td>\n",
       "      <td>55572.527016</td>\n",
       "      <td>165.140216</td>\n",
       "      <td>158.186448</td>\n",
       "      <td>1</td>\n",
       "      <td>4.0</td>\n",
       "    </tr>\n",
       "    <tr>\n",
       "      <td>1</td>\n",
       "      <td>50563.670573</td>\n",
       "      <td>164.915815</td>\n",
       "      <td>157.943743</td>\n",
       "      <td>1</td>\n",
       "      <td>4.4</td>\n",
       "    </tr>\n",
       "    <tr>\n",
       "      <td>2</td>\n",
       "      <td>42842.584076</td>\n",
       "      <td>164.546532</td>\n",
       "      <td>157.549211</td>\n",
       "      <td>1</td>\n",
       "      <td>5.2</td>\n",
       "    </tr>\n",
       "    <tr>\n",
       "      <td>3</td>\n",
       "      <td>39804.256129</td>\n",
       "      <td>164.415426</td>\n",
       "      <td>157.416770</td>\n",
       "      <td>1</td>\n",
       "      <td>5.6</td>\n",
       "    </tr>\n",
       "    <tr>\n",
       "      <td>4</td>\n",
       "      <td>32823.074090</td>\n",
       "      <td>164.108120</td>\n",
       "      <td>157.093743</td>\n",
       "      <td>1</td>\n",
       "      <td>6.8</td>\n",
       "    </tr>\n",
       "    <tr>\n",
       "      <td>...</td>\n",
       "      <td>...</td>\n",
       "      <td>...</td>\n",
       "      <td>...</td>\n",
       "      <td>...</td>\n",
       "      <td>...</td>\n",
       "    </tr>\n",
       "    <tr>\n",
       "      <td>2199</td>\n",
       "      <td>2688.373175</td>\n",
       "      <td>2240.398062</td>\n",
       "      <td>2103.742525</td>\n",
       "      <td>10</td>\n",
       "      <td>146.4</td>\n",
       "    </tr>\n",
       "    <tr>\n",
       "      <td>2200</td>\n",
       "      <td>2680.736844</td>\n",
       "      <td>2234.401339</td>\n",
       "      <td>2097.728184</td>\n",
       "      <td>10</td>\n",
       "      <td>146.8</td>\n",
       "    </tr>\n",
       "    <tr>\n",
       "      <td>2201</td>\n",
       "      <td>2665.245904</td>\n",
       "      <td>2222.485267</td>\n",
       "      <td>2085.599344</td>\n",
       "      <td>10</td>\n",
       "      <td>147.6</td>\n",
       "    </tr>\n",
       "    <tr>\n",
       "      <td>2202</td>\n",
       "      <td>2657.256463</td>\n",
       "      <td>2216.552138</td>\n",
       "      <td>2079.406716</td>\n",
       "      <td>10</td>\n",
       "      <td>148.0</td>\n",
       "    </tr>\n",
       "    <tr>\n",
       "      <td>2203</td>\n",
       "      <td>2639.783925</td>\n",
       "      <td>2204.591684</td>\n",
       "      <td>2066.181615</td>\n",
       "      <td>10</td>\n",
       "      <td>148.8</td>\n",
       "    </tr>\n",
       "  </tbody>\n",
       "</table>\n",
       "<p>2204 rows × 5 columns</p>\n",
       "</div>"
      ],
      "text/plain": [
       "                x1           x2           x3  Class      L\n",
       "0     55572.527016   165.140216   158.186448      1    4.0\n",
       "1     50563.670573   164.915815   157.943743      1    4.4\n",
       "2     42842.584076   164.546532   157.549211      1    5.2\n",
       "3     39804.256129   164.415426   157.416770      1    5.6\n",
       "4     32823.074090   164.108120   157.093743      1    6.8\n",
       "...            ...          ...          ...    ...    ...\n",
       "2199   2688.373175  2240.398062  2103.742525     10  146.4\n",
       "2200   2680.736844  2234.401339  2097.728184     10  146.8\n",
       "2201   2665.245904  2222.485267  2085.599344     10  147.6\n",
       "2202   2657.256463  2216.552138  2079.406716     10  148.0\n",
       "2203   2639.783925  2204.591684  2066.181615     10  148.8\n",
       "\n",
       "[2204 rows x 5 columns]"
      ]
     },
     "execution_count": 2,
     "metadata": {},
     "output_type": "execute_result"
    }
   ],
   "source": [
    "#path = os.getcwd() + '\\test.txt'\n",
    "data = pd.read_excel('test.xlsx', header=None, names=['x1', 'x2', 'x3','Class','L'])  \n",
    "data"
   ]
  },
  {
   "cell_type": "markdown",
   "metadata": {},
   "source": [
    "# Data Preprocessing"
   ]
  },
  {
   "cell_type": "code",
   "execution_count": 101,
   "metadata": {},
   "outputs": [
    {
     "name": "stdout",
     "output_type": "stream",
     "text": [
      "[[ 5.23292329 -0.50761117 -0.49209932]\n",
      " [ 4.71423414 -0.50763831 -0.49212966]\n",
      " [ 3.9146816  -0.50768296 -0.49217899]\n",
      " ...\n",
      " [-0.24585882 -0.25884807 -0.25112487]\n",
      " [-0.24668616 -0.25956547 -0.2518991 ]\n",
      " [-0.24849552 -0.26101166 -0.25355257]] 0        1\n",
      "1        1\n",
      "2        1\n",
      "3        1\n",
      "4        1\n",
      "        ..\n",
      "2199    10\n",
      "2200    10\n",
      "2201    10\n",
      "2202    10\n",
      "2203    10\n",
      "Name: Class, Length: 2204, dtype: int64\n",
      "[-0.50572731  0.01716379  0.03305416] 5\n"
     ]
    }
   ],
   "source": [
    "\n",
    "#X.data.shape\n",
    "pdList = data['x1'].to_frame()  # List of your dataframes\n",
    "yy = pdList.join(data['x2'], lsuffix='_caller', rsuffix='_other')\n",
    "yy  = yy.join(data['x3'], lsuffix='_caller', rsuffix='_other')\n",
    "\n",
    "y = data['Class']\n",
    "st_x = preprocessing.scale(yy)\n",
    "#st_x = yy\n",
    "#print(st_x)\n",
    "y.shape\n",
    "y2 = y[0:1088]\n",
    "st_x2=st_x[0:1088]\n",
    "y3 = y[1089:2204]\n",
    "st_x3=st_x[1089:2204]\n",
    "\n",
    "\n",
    "y2.shape\n",
    "st_x2.shape\n",
    "\n",
    "print(st_x,y)\n",
    "print(st_x[947],y[947])\n"
   ]
  },
  {
   "cell_type": "markdown",
   "metadata": {},
   "source": [
    "# Test accuracy of SVM kernels"
   ]
  },
  {
   "cell_type": "code",
   "execution_count": 42,
   "metadata": {},
   "outputs": [
    {
     "name": "stdout",
     "output_type": "stream",
     "text": [
      "Accuracy of linear kernel SVC with Cross Validation is: 73.57957937252164\n",
      "Accuracy of rbf kernel SVC with Cross Validation is: 70.26411912288711\n",
      "Accuracy of poly kernel SVC with Cross Validation is: 29.111977945387345\n",
      "Accuracy of sigmoid kernel SVC with Cross Validation is: 63.560315177742545\n"
     ]
    }
   ],
   "source": [
    "from sklearn.model_selection import train_test_split\n",
    "from sklearn import svm\n",
    "from sklearn import metrics\n",
    "from sklearn.preprocessing import StandardScaler\n",
    "\n",
    "# Splitting the dataset into the Training set and Test set\n",
    "\n",
    "#X_train, X_test, y_train, y_test = train_test_split(X, y, test_size=0.4, random_state=0)\n",
    "#clf = svm.SVC(kernel='linear', C=1).fit(X_train, y_train)\n",
    "#clf.score(X_test, y_test)\n",
    "#from sklearn.model_selection import cross_val_score\n",
    "#clf = svm.SVC(kernel='linear', C=1)\n",
    "#scores = cross_val_score(clf, X, y, cv=50)\n",
    "#print(\"Accuracy: %0.2f (+/- %0.2f)\" % (scores.mean(), scores.std() * 2))\n",
    "\n",
    "C=1\n",
    "\n",
    "# we create an instance of SVM and fit out data.\n",
    "model = svm.SVC(kernel='linear', C=C)\n",
    "y_pred = cross_val_predict(model,st_x, y, cv=50)\n",
    "accuracy = metrics.balanced_accuracy_score(y, y_pred, sample_weight=None)\n",
    "print(\"Accuracy of linear kernel SVC with Cross Validation is:\",accuracy.mean() * 100)\n",
    "\n",
    "model = svm.SVC(kernel='rbf',gamma= 'scale', C=C)\n",
    "y_pred = cross_val_predict(model,st_x, y, cv=50)\n",
    "accuracy = metrics.balanced_accuracy_score(y, y_pred, sample_weight=None)\n",
    "print(\"Accuracy of rbf kernel SVC with Cross Validation is:\",accuracy.mean() * 100)\n",
    "\n",
    "model = svm.SVC(kernel='poly',gamma= 'scale', C=C)\n",
    "y_pred = cross_val_predict(model,st_x, y, cv=50)\n",
    "accuracy = metrics.balanced_accuracy_score(y, y_pred, sample_weight=None)\n",
    "print(\"Accuracy of poly kernel SVC with Cross Validation is:\",accuracy.mean() * 100)\n",
    "\n",
    "model = svm.SVC(kernel='sigmoid',gamma= 'scale', C=C)\n",
    "y_pred = cross_val_predict(model,st_x, y, cv=50)\n",
    "accuracy = metrics.balanced_accuracy_score(y, y_pred, sample_weight=None)\n",
    "print(\"Accuracy of sigmoid kernel SVC with Cross Validation is:\",accuracy.mean() * 100)"
   ]
  },
  {
   "cell_type": "markdown",
   "metadata": {},
   "source": [
    "# Find optimum hyperparameters for each kernel by using random search algorithm"
   ]
  },
  {
   "cell_type": "code",
   "execution_count": null,
   "metadata": {},
   "outputs": [],
   "source": [
    "from sklearn import svm\n",
    "from sklearn.model_selection import GridSearchCV\n",
    "\n",
    "def svc_param_selection(X, y, nfolds):\n",
    "    Cs = [0.001, 0.01, 0.1, 1, 1000]\n",
    "    gammas = [0.001, 0.01, 0.1, 1]\n",
    "    #class_weight= [0.001, 0.01, 0.1, 1]\n",
    "    param_grid = {'C': Cs, 'gamma' : gammas,'gamma' : gammas}\n",
    "    grid_search = GridSearchCV(svm.SVC(kernel='rbf'), param_grid, cv=nfolds)\n",
    "    grid_search.fit(X, y)\n",
    "    grid_search.best_params_\n",
    "    return grid_search.best_params_\n",
    "X1 = svc_param_selection(st_x, y, 50)\n",
    "print(X1)\n",
    "def svc_param_selection(X, y, nfolds):\n",
    "    Cs = [0.001, 0.01, 0.1, 1, 1000]\n",
    "    gammas = [0.001, 0.01, 0.1, 1]\n",
    "    #class_weight= [0.001, 0.01, 0.1, 1]\n",
    "    param_grid = {'C': Cs, 'gamma' : gammas,'gamma' : gammas}\n",
    "    grid_search = GridSearchCV(svm.SVC(kernel='linear'), param_grid, cv=nfolds)\n",
    "    grid_search.fit(X, y)\n",
    "    grid_search.best_params_\n",
    "    return grid_search.best_params_\n",
    "X2 = svc_param_selection(st_x, y, 50)\n",
    "print(X2)\n",
    "def svc_param_selection(X, y, nfolds):\n",
    "    Cs = [0.001, 0.01, 0.1, 1, 1000]\n",
    "    gammas = [0.001, 0.01, 0.1, 1]\n",
    "    #class_weight= [0.001, 0.01, 0.1, 1]\n",
    "    param_grid = {'C': Cs, 'gamma' : gammas,'gamma' : gammas}\n",
    "    grid_search = GridSearchCV(svm.SVC(kernel='poly'), param_grid, cv=nfolds)\n",
    "    grid_search.fit(X, y)\n",
    "    grid_search.best_params_\n",
    "    return grid_search.best_params_\n",
    "X3 = svc_param_selection(st_x, y, 50)\n",
    "print(X3)\n",
    "def svc_param_selection(X, y, nfolds):\n",
    "    Cs = [0.001, 0.01, 0.1, 1, 1000]\n",
    "    gammas = [0.001, 0.01, 0.1, 1]\n",
    "    #class_weight= [0.001, 0.01, 0.1, 1]\n",
    "    param_grid = {'C': Cs, 'gamma' : gammas,'gamma' : gammas}\n",
    "    grid_search = GridSearchCV(svm.SVC(kernel='sigmoid'), param_grid, cv=nfolds)\n",
    "    grid_search.fit(X, y)\n",
    "    grid_search.best_params_\n",
    "    return grid_search.best_params_\n",
    "X4 = svc_param_selection(st_x, y, 50)\n",
    "print(X4)"
   ]
  },
  {
   "cell_type": "markdown",
   "metadata": {},
   "source": [
    "# Find accuracy of linear kernel SVC with Cross Validation"
   ]
  },
  {
   "cell_type": "code",
   "execution_count": 68,
   "metadata": {},
   "outputs": [
    {
     "name": "stdout",
     "output_type": "stream",
     "text": [
      "Accuracy of linear kernel SVC with Cross Validation is: 99.2373717985819\n",
      "[[ 5.23292329 -0.50761117 -0.49209932]\n",
      " [ 4.71423414 -0.50763831 -0.49212966]\n",
      " [ 3.9146816  -0.50768296 -0.49217899]\n",
      " ...\n",
      " [-0.24585882 -0.25884807 -0.25112487]\n",
      " [-0.24668616 -0.25956547 -0.2518991 ]\n",
      " [-0.24849552 -0.26101166 -0.25355257]]\n"
     ]
    }
   ],
   "source": [
    "model = svm.SVC(kernel='rbf', C=1000,gamma=0.1)\n",
    "y_pred = cross_val_predict(model,st_x, y, cv=50)\n",
    "accuracy = metrics.balanced_accuracy_score(y, y_pred, sample_weight=None)\n",
    "print(\"Accuracy of linear kernel SVC with Cross Validation is:\",accuracy.mean() * 100)\n",
    "print(st_x)"
   ]
  },
  {
   "cell_type": "markdown",
   "metadata": {},
   "source": [
    "Testing "
   ]
  },
  {
   "cell_type": "code",
   "execution_count": 102,
   "metadata": {},
   "outputs": [
    {
     "name": "stdout",
     "output_type": "stream",
     "text": [
      "[5]\n"
     ]
    }
   ],
   "source": [
    "tester = SVC(kernel='rbf', C=1000,gamma=0.1)\n",
    "#tester = svm.SVC(kernel='linear', C=1000,gamma=0.000001)\n",
    "tester.fit(st_x, y)\n",
    "print(tester.predict([[-0.50572731,  0.01716379 , 0.03305416]]))\n",
    "\n"
   ]
  },
  {
   "cell_type": "code",
   "execution_count": 98,
   "metadata": {},
   "outputs": [
    {
     "name": "stdout",
     "output_type": "stream",
     "text": [
      "[[0. 0. 0.]]\n"
     ]
    }
   ],
   "source": [
    "st_xxxx = preprocessing.scale([[-0.50541617, -0.50675486, -0.30521778]])\n",
    "\n",
    "print(st_xxxx)\n"
   ]
  },
  {
   "cell_type": "code",
   "execution_count": null,
   "metadata": {},
   "outputs": [],
   "source": [
    "y.shape\n",
    "st_x2[:, :3]"
   ]
  },
  {
   "cell_type": "code",
   "execution_count": null,
   "metadata": {},
   "outputs": [],
   "source": [
    "print(np.unique(y))"
   ]
  },
  {
   "cell_type": "code",
   "execution_count": null,
   "metadata": {},
   "outputs": [],
   "source": []
  },
  {
   "cell_type": "code",
   "execution_count": 6,
   "metadata": {},
   "outputs": [
    {
     "name": "stderr",
     "output_type": "stream",
     "text": [
      "No handles with labels found to put in legend.\n"
     ]
    },
    {
     "data": {
      "image/png": "[encoded data removed]",
      "text/plain": [
       "<Figure size 432x288 with 1 Axes>"
      ]
     },
     "metadata": {},
     "output_type": "display_data"
    }
   ],
   "source": [
    "from sklearn.svm import SVC\n",
    "import numpy as np\n",
    "import matplotlib.pyplot as plt\n",
    "from sklearn import svm, datasets\n",
    "from sklearn.decomposition import PCA\n",
    "\n",
    "X = st_x2[:, :3]  \n",
    "y = y2\n",
    "\n",
    "pca = PCA(n_components=2)\n",
    "Xreduced = pca.fit_transform(X)\n",
    "\n",
    "def make_meshgrid(x, y, h=.02):\n",
    "    x_min, x_max = x.min() - 1, x.max() + 1\n",
    "    y_min, y_max = y.min() - 1, y.max() + 1\n",
    "    xx, yy = np.meshgrid(np.arange(x_min, x_max, h), np.arange(y_min, y_max, h))\n",
    "    return xx, yy\n",
    "\n",
    "def plot_contours(ax, clf, xx, yy, **params):\n",
    "    Z = clf.predict(np.c_[xx.ravel(), yy.ravel()])\n",
    "    Z = Z.reshape(xx.shape)\n",
    "    out = ax.contourf(xx, yy, Z, **params)\n",
    "    return out\n",
    "\n",
    "model = svm.SVC(kernel='rbf',C = 1000, gamma = 0.1)\n",
    "clf = model.fit(Xreduced, y)\n",
    "\n",
    "fig, ax = plt.subplots()\n",
    "# title for the plots\n",
    "title = ('Decision surface of linear SVC ')\n",
    "# Set-up grid for plotting.\n",
    "X0, X1 = Xreduced[:, 0], Xreduced[:, 1]\n",
    "xx, yy = make_meshgrid(X0, X1)\n",
    "\n",
    "plot_contours(ax, clf, xx, yy, cmap=plt.cm.coolwarm, alpha=0.8)\n",
    "ax.scatter(X0, X1, c=y, cmap=plt.cm.coolwarm, s=20, edgecolors='k')\n",
    "ax.set_ylabel('PC2')\n",
    "ax.set_xlabel('PC1')\n",
    "ax.set_xticks(())\n",
    "ax.set_yticks(())\n",
    "ax.set_title('Decison surface using the PCA transformed/projected features')\n",
    "ax.legend()\n",
    "plt.show()\n"
   ]
  },
  {
   "cell_type": "code",
   "execution_count": 5,
   "metadata": {},
   "outputs": [
    {
     "name": "stderr",
     "output_type": "stream",
     "text": [
      "No handles with labels found to put in legend.\n"
     ]
    },
    {
     "data": {
      "image/png": "[encoded data removed]",
      "text/plain": [
       "<Figure size 432x288 with 1 Axes>"
      ]
     },
     "metadata": {},
     "output_type": "display_data"
    }
   ],
   "source": [
    "from sklearn.svm import SVC\n",
    "import numpy as np\n",
    "import matplotlib.pyplot as plt\n",
    "from sklearn import svm, datasets\n",
    "from sklearn.decomposition import PCA\n",
    "\n",
    "X = st_x3[:, :3]  \n",
    "y = y3\n",
    "\n",
    "pca = PCA(n_components=2)\n",
    "Xreduced = pca.fit_transform(X)\n",
    "\n",
    "def make_meshgrid(x, y, h=.02):\n",
    "    x_min, x_max = x.min() - 1, x.max() + 1\n",
    "    y_min, y_max = y.min() - 1, y.max() + 1\n",
    "    xx, yy = np.meshgrid(np.arange(x_min, x_max, h), np.arange(y_min, y_max, h))\n",
    "    return xx, yy\n",
    "\n",
    "def plot_contours(ax, clf, xx, yy, **params):\n",
    "    Z = clf.predict(np.c_[xx.ravel(), yy.ravel()])\n",
    "    Z = Z.reshape(xx.shape)\n",
    "    out = ax.contourf(xx, yy, Z, **params)\n",
    "    return out\n",
    "\n",
    "model = svm.SVC(kernel='rbf',C = 1000, gamma = 0.1)\n",
    "clf = model.fit(Xreduced, y)\n",
    "\n",
    "fig, ax = plt.subplots()\n",
    "# title for the plots\n",
    "title = ('Decision surface of linear SVC ')\n",
    "# Set-up grid for plotting.\n",
    "X0, X1 = Xreduced[:, 0], Xreduced[:, 1]\n",
    "xx, yy = make_meshgrid(X0, X1)\n",
    "\n",
    "plot_contours(ax, clf, xx, yy, cmap=plt.cm.coolwarm, alpha=0.8)\n",
    "ax.scatter(X0, X1, c=y, cmap=plt.cm.coolwarm, s=20, edgecolors='k')\n",
    "ax.set_ylabel('PC2')\n",
    "ax.set_xlabel('PC1')\n",
    "ax.set_xticks(())\n",
    "ax.set_yticks(())\n",
    "ax.set_title('Decison surface using the PCA transformed/projected features')\n",
    "ax.legend()\n",
    "plt.show()"
   ]
  },
  {
   "cell_type": "code",
   "execution_count": 78,
   "metadata": {},
   "outputs": [
    {
     "name": "stdout",
     "output_type": "stream",
     "text": [
      "[  4.    4.4   5.2 ... 147.6 148.  148.8]\n",
      "                x1           x2           x3  Class\n",
      "0     55572.527016   165.140216   158.186448      1\n",
      "1     50563.670573   164.915815   157.943743      1\n",
      "2     42842.584076   164.546532   157.549211      1\n",
      "3     39804.256129   164.415426   157.416770      1\n",
      "4     32823.074090   164.108120   157.093743      1\n",
      "...            ...          ...          ...    ...\n",
      "2199   2688.373175  2240.398062  2103.742525     10\n",
      "2200   2680.736844  2234.401339  2097.728184     10\n",
      "2201   2665.245904  2222.485267  2085.599344     10\n",
      "2202   2657.256463  2216.552138  2079.406716     10\n",
      "2203   2639.783925  2204.591684  2066.181615     10\n",
      "\n",
      "[2204 rows x 4 columns]\n"
     ]
    }
   ],
   "source": [
    "#Seond part\n",
    "#X.data.shape\n",
    "First = data['x1'].to_frame()  # List of your dataframes\n",
    "second = First.join(data['x2'], lsuffix='_caller', rsuffix='_other')\n",
    "third  = second.join(data['x3'], lsuffix='_caller', rsuffix='_other')\n",
    "group  = third.join(data['Class'], lsuffix='_caller', rsuffix='_other')\n",
    "\n",
    "\n",
    "lables = data['L'].ravel()\n",
    "st_x1 = preprocessing.scale(group)\n",
    "#st_x = yy\n",
    "#print(st_x)\n",
    "#y.shape\n",
    "#lab_enc = preprocessing.LabelEncoder()\n",
    "#training_scores_encoded = lab_enc.fit_transform(lables)\n",
    "print(lables)\n",
    "print(group)\n",
    "#print(lables.ravel().shape)\n",
    "#print(group.shape)\n"
   ]
  },
  {
   "cell_type": "code",
   "execution_count": 79,
   "metadata": {},
   "outputs": [
    {
     "name": "stderr",
     "output_type": "stream",
     "text": [
      "C:\\Users\\anwer\\Anaconda3\\lib\\site-packages\\sklearn\\svm\\base.py:193: FutureWarning: The default value of gamma will change from 'auto' to 'scale' in version 0.22 to account better for unscaled features. Set gamma explicitly to 'auto' or 'scale' to avoid this warning.\n",
      "  \"avoid this warning.\", FutureWarning)\n"
     ]
    },
    {
     "name": "stdout",
     "output_type": "stream",
     "text": [
      "140.19830291665593\n",
      "2.963240116588233\n",
      "36.38629692557678\n",
      "6.03210551346516\n"
     ]
    }
   ],
   "source": [
    "from sklearn.svm import SVR\n",
    "import matplotlib.pyplot as plt\n",
    "import numpy as np\n",
    "import pandas as pd\n",
    "from sklearn.linear_model import LinearRegression\n",
    "from sklearn.model_selection import cross_validate\n",
    "\n",
    "\n",
    "X = group\n",
    "y = lables.ravel()\n",
    "from sklearn.svm import SVR\n",
    "xtrain, xtest, ytrain, ytest = train_test_split(X, y, test_size = 0.1)\n",
    "\n",
    "\n",
    "\n",
    "svr_rbf = SVR(kernel='rbf', C=1000, gamma=0.001)\n",
    "\n",
    "\n",
    "svr_rbf.fit(X,y)\n",
    "confidence = svr_rbf.score(xtest, ytest)\n",
    "\n",
    "\n",
    "clf = svm.SVR()\n",
    "clf.fit(X,y)\n",
    "clf.score(X,y)\n",
    "\n",
    "#print(confidence)\n",
    "#print(\"Accuracy: %.3f (%.3f)\") % (svr_rbf.mean(), svr_rbf.std())\n",
    "from sklearn.metrics import r2_score\n",
    "\n",
    "regressor=SVR(kernel='rbf',epsilon=1.0,C=60, gamma=0.00001)\n",
    "regressor.fit(xtrain,ytrain)\n",
    "pred=regressor.predict(xtest)\n",
    "#print(regressor.score(xtest,ytest))\n",
    "#print(r2_score(ytest,pred))\n",
    "#print(ytest)\n",
    "print(pred[100])\n",
    "# calculate MAE, MSE, RMSE\n",
    "print(metrics.mean_absolute_error(ytest, pred))\n",
    "print(metrics.mean_squared_error(ytest, pred))\n",
    "print(np.sqrt(metrics.mean_squared_error(ytest, pred)))\n",
    "###############################################################################\n",
    "# look at the results\n",
    "#y_pred = svr_rbf.predict(6.5)"
   ]
  },
  {
   "cell_type": "code",
   "execution_count": 103,
   "metadata": {},
   "outputs": [
    {
     "name": "stdout",
     "output_type": "stream",
     "text": [
      "[55.80169992]\n"
     ]
    }
   ],
   "source": [
    "pred=regressor.predict([[155.7253299,4536.29554,4389.657875,5]])\n",
    "print(pred)\n",
    "#print(ytest)155.7253299,4536.29554,4389.657875,5\n"
   ]
  },
  {
   "cell_type": "code",
   "execution_count": null,
   "metadata": {},
   "outputs": [],
   "source": []
  },
  {
   "cell_type": "code",
   "execution_count": null,
   "metadata": {},
   "outputs": [],
   "source": []
  }
 ],
 "metadata": {
  "kernelspec": {
   "display_name": "Python 3",
   "language": "python",
   "name": "python3"
  },
  "language_info": {
   "codemirror_mode": {
    "name": "ipython",
    "version": 3
   },
   "file_extension": ".py",
   "mimetype": "text/x-python",
   "name": "python",
   "nbconvert_exporter": "python",
   "pygments_lexer": "ipython3",
   "version": "3.7.3"
  }
 },
 "nbformat": 4,
 "nbformat_minor": 2
}
