{
 "cells": [
  {
   "cell_type": "code",
   "execution_count": 101,
   "metadata": {},
   "outputs": [],
   "source": [
    "#Import libraries\n",
    "%matplotlib inline\n",
    "import matplotlib.pyplot as plt\n",
    "import numpy as np\n",
    "import pandas as pd\n",
    "\n",
    "from scipy.stats import *\n",
    "from sklearn import *\n",
    "from sklearn import preprocessing\n",
    "from sklearn.preprocessing import PolynomialFeatures\n",
    "from sklearn import metrics\n",
    "from sklearn import datasets\n",
    "from sklearn.ensemble import ExtraTreesClassifier\n",
    "from sklearn.feature_selection import RFE\n",
    "from sklearn.linear_model import LogisticRegression\n",
    "from sklearn.model_selection import train_test_split\n",
    "from sklearn.tree import DecisionTreeClassifier\n",
    "from sklearn.svm import SVC\n",
    "from sklearn import svm, datasets,metrics\n",
    "from sklearn.model_selection import cross_val_score\n",
    "from sklearn.model_selection import cross_val_predict\n",
    "#from sklearn.grid_search import GridSearchCV\n",
    "from sklearn.model_selection import RandomizedSearchCV\n",
    "from sklearn.model_selection import ShuffleSplit\n",
    "from sklearn.model_selection import learning_curve\n",
    "from scipy.stats import randint as sp_randint\n",
    "\n",
    "from sklearn.datasets import load_breast_cancer\n",
    "from sklearn.model_selection import train_test_split\n",
    "from sklearn.metrics import precision_score\n",
    "from sklearn.metrics import accuracy_score\n",
    "\n",
    "from sklearn.preprocessing import LabelEncoder\n",
    "from sklearn.tree import DecisionTreeClassifier\n",
    "from sklearn.ensemble import RandomForestClassifier\n",
    "\n",
    "from sklearn.tree import export_graphviz\n",
    "from sklearn.externals.six import StringIO  \n",
    "from IPython.display import Image  \n",
    "import pydotplus\n"
   ]
  },
  {
   "cell_type": "markdown",
   "metadata": {},
   "source": []
  },
  {
   "cell_type": "code",
   "execution_count": 103,
   "metadata": {},
   "outputs": [
    {
     "name": "stdout",
     "output_type": "stream",
     "text": [
      "[[55572   165   158]\n",
      " [50563   164   157]\n",
      " [42842   164   157]\n",
      " ...\n",
      " [ 2665  2222  2085]\n",
      " [ 2657  2216  2079]\n",
      " [ 2639  2204  2066]]\n",
      "[ 1  1  1 ... 10 10 10]\n"
     ]
    }
   ],
   "source": [
    "label = LabelEncoder()\n",
    "data = pd.read_excel(\"testInt.xlsx\",header=None)\n",
    "\n",
    "\n",
    "X = data.iloc[:,:-2].values\n",
    "y = data.iloc[:,-2].values\n",
    "X = X.astype('int')\n",
    "y = y.astype('int')\n",
    "\n",
    "print(X)\n",
    "print(y)"
   ]
  },
  {
   "cell_type": "markdown",
   "metadata": {},
   "source": [
    "# Decision Tree Classification"
   ]
  },
  {
   "cell_type": "code",
   "execution_count": 117,
   "metadata": {},
   "outputs": [
    {
     "name": "stdout",
     "output_type": "stream",
     "text": [
      "Accuracy: 0.44561933534743203\n"
     ]
    }
   ],
   "source": [
    "# Split dataset into training set and test set\n",
    "X_train, X_test, y_train, y_test = train_test_split(X, y, test_size=0.3, random_state=1) # 70% training and 30% test\n",
    "\n",
    "# Create Decision Tree classifer object\n",
    "tree = DecisionTreeClassifier(random_state=0)\n",
    "#tree = DecisionTreeClassifier(criterion=\"entropy\", max_depth=3)\n",
    "\n",
    "# Train Decision Tree Classifer\n",
    "tree = tree.fit(X_train, y_train)\n",
    "\n",
    "#Predict the response for test dataset\n",
    "y_pred = tree.predict(X_test)\n",
    "\n",
    "# Model Accuracy, how often is the classifier correct?\n",
    "print(\"Accuracy:\",metrics.accuracy_score(y_test, y_pred))\n",
    "\n",
    "\n",
    "\n",
    "#score_tr = cross_val_score(tree, X, y, cv=50,scoring='accuracy')\n",
    "#print(\"Accuracy of Decision Tree: \" + str(score_tr.mean()))"
   ]
  },
  {
   "cell_type": "markdown",
   "metadata": {},
   "source": [
    "# Decision Tree Regression"
   ]
  },
  {
   "cell_type": "code",
   "execution_count": 119,
   "metadata": {},
   "outputs": [
    {
     "name": "stdout",
     "output_type": "stream",
     "text": [
      "[[55572   165   158     1]\n",
      " [50563   164   157     1]\n",
      " [42842   164   157     1]\n",
      " ...\n",
      " [ 2665  2222  2085    10]\n",
      " [ 2657  2216  2079    10]\n",
      " [ 2639  2204  2066    10]]\n",
      "[  4   4   5 ... 147 148 148]\n"
     ]
    }
   ],
   "source": [
    "label = LabelEncoder()\n",
    "data = pd.read_excel(\"testInt.xlsx\",header=None)\n",
    "\n",
    "\n",
    "X = data.iloc[:,:-1].values\n",
    "#for i in range(X.shape[1]):\n",
    "#    X[:,i] = label.fit_transform(X[:,i])\n",
    "#y = data.iloc[:,-1].values\n",
    "\n",
    "y = data.iloc[:,-1].values\n",
    "X = X.astype('int')\n",
    "y = y.astype('int')\n",
    "\n",
    "#X = [round(X) for X in X]\n",
    "\n",
    "#y = [round(y) for y in y]\n",
    "\n",
    "#y = label.fit_transform(y)\n",
    "print(X)\n",
    "print(y)"
   ]
  },
  {
   "cell_type": "code",
   "execution_count": 120,
   "metadata": {},
   "outputs": [
    {
     "name": "stdout",
     "output_type": "stream",
     "text": [
      "Accuracy: 0.44561933534743203\n"
     ]
    }
   ],
   "source": [
    "# Split dataset into training set and test set\n",
    "X_train, X_test, y_train, y_test = train_test_split(X, y, test_size=0.3, random_state=1) # 70% training and 30% test\n",
    "\n",
    "# Create Decision Tree classifer object\n",
    "tree = DecisionTreeClassifier(random_state=0)\n",
    "#tree = DecisionTreeClassifier(criterion=\"entropy\", max_depth=3)\n",
    "\n",
    "# Train Decision Tree Classifer\n",
    "tree = tree.fit(X_train, y_train)\n",
    "\n",
    "#Predict the response for test dataset\n",
    "y_pred = tree.predict(X_test)\n",
    "\n",
    "# Model Accuracy, how often is the classifier correct?\n",
    "print(\"Accuracy:\",metrics.accuracy_score(y_test, y_pred))\n",
    "\n",
    "\n",
    "\n",
    "#score_tr = cross_val_score(tree, X, y, cv=50,scoring='accuracy')\n",
    "#print(\"Accuracy of Decision Tree: \" + str(score_tr.mean()))"
   ]
  },
  {
   "cell_type": "markdown",
   "metadata": {},
   "source": [
    "# Random Forest Classification"
   ]
  },
  {
   "cell_type": "code",
   "execution_count": 133,
   "metadata": {},
   "outputs": [
    {
     "name": "stdout",
     "output_type": "stream",
     "text": [
      "[[55572   165   158]\n",
      " [50563   164   157]\n",
      " [42842   164   157]\n",
      " ...\n",
      " [ 2665  2222  2085]\n",
      " [ 2657  2216  2079]\n",
      " [ 2639  2204  2066]]\n",
      "[ 1  1  1 ... 10 10 10]\n"
     ]
    }
   ],
   "source": [
    "label = LabelEncoder()\n",
    "data = pd.read_excel(\"testInt.xlsx\",header=None)\n",
    "\n",
    "\n",
    "X = data.iloc[:,:-2].values\n",
    "#for i in range(X.shape[1]):\n",
    "#    X[:,i] = label.fit_transform(X[:,i])\n",
    "#y = data.iloc[:,-1].values\n",
    "\n",
    "y = data.iloc[:,-2].values\n",
    "X = X.astype('int')\n",
    "y = y.astype('int')\n",
    "\n",
    "#X = [round(X) for X in X]\n",
    "\n",
    "#y = [round(y) for y in y]\n",
    "\n",
    "#y = label.fit_transform(y)\n",
    "print(X)\n",
    "print(y)"
   ]
  },
  {
   "cell_type": "code",
   "execution_count": 134,
   "metadata": {},
   "outputs": [
    {
     "name": "stdout",
     "output_type": "stream",
     "text": [
      "Accuracy: 0.9909365558912386\n"
     ]
    }
   ],
   "source": [
    "from sklearn.ensemble import RandomForestClassifier\n",
    "\n",
    "X_train, X_test, y_train, y_test = train_test_split(X, y, test_size=0.3, random_state=1) # 70% training and 30% test\n",
    "#Create a Gaussian Classifier\n",
    "clf=RandomForestClassifier(n_estimators=100)\n",
    "\n",
    "#Train the model using the training sets y_pred=clf.predict(X_test)\n",
    "clf.fit(X_train,y_train)\n",
    "\n",
    "y_pred=clf.predict(X_test)\n",
    "\n",
    "#Import scikit-learn metrics module for accuracy calculation\n",
    "from sklearn import metrics\n",
    "# Model Accuracy, how often is the classifier correct?\n",
    "print(\"Accuracy:\",metrics.accuracy_score(y_test, y_pred))"
   ]
  },
  {
   "cell_type": "markdown",
   "metadata": {},
   "source": [
    "# Random Tree Regression "
   ]
  },
  {
   "cell_type": "code",
   "execution_count": 137,
   "metadata": {},
   "outputs": [
    {
     "name": "stdout",
     "output_type": "stream",
     "text": [
      "[[55572   165   158     1]\n",
      " [50563   164   157     1]\n",
      " [42842   164   157     1]\n",
      " ...\n",
      " [ 2665  2222  2085    10]\n",
      " [ 2657  2216  2079    10]\n",
      " [ 2639  2204  2066    10]]\n",
      "[  4   4   5 ... 147 148 148]\n"
     ]
    }
   ],
   "source": [
    "label = LabelEncoder()\n",
    "data = pd.read_excel(\"testInt.xlsx\",header=None)\n",
    "\n",
    "\n",
    "X = data.iloc[:,:-1].values\n",
    "#for i in range(X.shape[1]):\n",
    "#    X[:,i] = label.fit_transform(X[:,i])\n",
    "#y = data.iloc[:,-1].values\n",
    "\n",
    "y = data.iloc[:,-1].values\n",
    "X = X.astype('int')\n",
    "y = y.astype('int')\n",
    "\n",
    "#X = [round(X) for X in X]\n",
    "\n",
    "#y = [round(y) for y in y]\n",
    "\n",
    "#y = label.fit_transform(y)\n",
    "print(X)\n",
    "print(y)"
   ]
  },
  {
   "cell_type": "code",
   "execution_count": 138,
   "metadata": {},
   "outputs": [
    {
     "name": "stdout",
     "output_type": "stream",
     "text": [
      "Accuracy: 0.472809667673716\n"
     ]
    }
   ],
   "source": [
    "from sklearn.ensemble import RandomForestClassifier\n",
    "\n",
    "X_train, X_test, y_train, y_test = train_test_split(X, y, test_size=0.3, random_state=1) # 70% training and 30% test\n",
    "#Create a Gaussian Classifier\n",
    "clf=RandomForestClassifier(n_estimators=100)\n",
    "\n",
    "#Train the model using the training sets y_pred=clf.predict(X_test)\n",
    "clf.fit(X_train,y_train)\n",
    "\n",
    "y_pred=clf.predict(X_test)\n",
    "\n",
    "#Import scikit-learn metrics module for accuracy calculation\n",
    "from sklearn import metrics\n",
    "# Model Accuracy, how often is the classifier correct?\n",
    "print(\"Accuracy:\",metrics.accuracy_score(y_test, y_pred))"
   ]
  }
 ],
 "metadata": {
  "kernelspec": {
   "display_name": "Python 3",
   "language": "python",
   "name": "python3"
  },
  "language_info": {
   "codemirror_mode": {
    "name": "ipython",
    "version": 3
   },
   "file_extension": ".py",
   "mimetype": "text/x-python",
   "name": "python",
   "nbconvert_exporter": "python",
   "pygments_lexer": "ipython3",
   "version": "3.7.3"
  }
 },
 "nbformat": 4,
 "nbformat_minor": 2
}
